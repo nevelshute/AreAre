{
  "nbformat": 4,
  "nbformat_minor": 0,
  "metadata": {
    "colab": {
      "name": "acoustic_scene_classification.ipynb",
      "provenance": [],
      "collapsed_sections": [],
      "include_colab_link": true
    },
    "kernelspec": {
      "name": "python3",
      "display_name": "Python 3"
    },
    "accelerator": "GPU"
  },
  "cells": [
    {
      "cell_type": "markdown",
      "metadata": {
        "id": "view-in-github",
        "colab_type": "text"
      },
      "source": [
        "<a href=\"https://colab.research.google.com/github/nevelshute/AreAre/blob/master/acoustic_scene_classification.ipynb\" target=\"_parent\"><img src=\"https://colab.research.google.com/assets/colab-badge.svg\" alt=\"Open In Colab\"/></a>"
      ]
    },
    {
      "cell_type": "markdown",
      "metadata": {
        "id": "8si5fT2y3zWH"
      },
      "source": [
        "# Acoustic Scene Classification"
      ]
    },
    {
      "cell_type": "markdown",
      "metadata": {
        "id": "SyPoueV4aIUV"
      },
      "source": [
        "This guide will show you how to build a basic acoustic scene classification network that recognizes 3 different acoustic scenes:\n",
        "- Indoor\n",
        "- Outdoor\n",
        "- In-vehicle"
      ]
    },
    {
      "cell_type": "markdown",
      "metadata": {
        "id": "GfriuS3t5Qxq"
      },
      "source": [
        "Let's get started by first downloading some custom modules:"
      ]
    },
    {
      "cell_type": "code",
      "metadata": {
        "id": "pZu85TSm52so",
        "outputId": "f4c16a4b-cd35-439d-bc40-2f0bcc293690",
        "colab": {
          "base_uri": "https://localhost:8080/",
          "height": 204
        }
      },
      "source": [
        "!wget https://gist.githubusercontent.com/glegrain/13276fb57007905180f5455be7a3d6cd/raw/tutacousticscenes2016.py"
      ],
      "execution_count": null,
      "outputs": [
        {
          "output_type": "stream",
          "text": [
            "--2019-10-21 09:11:49--  https://gist.githubusercontent.com/glegrain/13276fb57007905180f5455be7a3d6cd/raw/tutacousticscenes2016.py\n",
            "Resolving gist.githubusercontent.com (gist.githubusercontent.com)... 151.101.0.133, 151.101.64.133, 151.101.128.133, ...\n",
            "Connecting to gist.githubusercontent.com (gist.githubusercontent.com)|151.101.0.133|:443... connected.\n",
            "HTTP request sent, awaiting response... 200 OK\n",
            "Length: 7680 (7.5K) [text/plain]\n",
            "Saving to: ‘tutacousticscenes2016.py’\n",
            "\n",
            "\rtutacousticscenes20   0%[                    ]       0  --.-KB/s               \rtutacousticscenes20 100%[===================>]   7.50K  --.-KB/s    in 0s      \n",
            "\n",
            "2019-10-21 09:11:50 (112 MB/s) - ‘tutacousticscenes2016.py’ saved [7680/7680]\n",
            "\n"
          ],
          "name": "stdout"
        }
      ]
    },
    {
      "cell_type": "code",
      "metadata": {
        "id": "00yiJQqP6P8W",
        "outputId": "ee278d3d-ffdf-4943-d02a-6c44f912c423",
        "colab": {
          "base_uri": "https://localhost:8080/",
          "height": 204
        }
      },
      "source": [
        "!wget https://gist.githubusercontent.com/glegrain/bebc5a801c0896c9429dab9cb4dfaaf1/raw/LogMelSpectrogram.py"
      ],
      "execution_count": null,
      "outputs": [
        {
          "output_type": "stream",
          "text": [
            "--2019-10-21 09:11:55--  https://gist.githubusercontent.com/glegrain/bebc5a801c0896c9429dab9cb4dfaaf1/raw/LogMelSpectrogram.py\n",
            "Resolving gist.githubusercontent.com (gist.githubusercontent.com)... 151.101.0.133, 151.101.64.133, 151.101.128.133, ...\n",
            "Connecting to gist.githubusercontent.com (gist.githubusercontent.com)|151.101.0.133|:443... connected.\n",
            "HTTP request sent, awaiting response... 200 OK\n",
            "Length: 1734 (1.7K) [text/plain]\n",
            "Saving to: ‘LogMelSpectrogram.py’\n",
            "\n",
            "\rLogMelSpectrogram.p   0%[                    ]       0  --.-KB/s               \rLogMelSpectrogram.p 100%[===================>]   1.69K  --.-KB/s    in 0s      \n",
            "\n",
            "2019-10-21 09:11:55 (385 MB/s) - ‘LogMelSpectrogram.py’ saved [1734/1734]\n",
            "\n"
          ],
          "name": "stdout"
        }
      ]
    },
    {
      "cell_type": "code",
      "metadata": {
        "id": "gUNweMbf5Vsu"
      },
      "source": [
        "# Fixing random state for reproducibility\n",
        "from numpy.random import seed\n",
        "seed(1)\n",
        "from tensorflow import set_random_seed\n",
        "set_random_seed(2)"
      ],
      "execution_count": null,
      "outputs": []
    },
    {
      "cell_type": "code",
      "metadata": {
        "id": "V7J0utn-dCTG"
      },
      "source": [
        "import tensorflow as tf\n",
        "tf.keras.backend.clear_session()"
      ],
      "execution_count": null,
      "outputs": []
    },
    {
      "cell_type": "markdown",
      "metadata": {
        "id": "1pZBm4W3khO8"
      },
      "source": [
        "## Download the **TUT Acoustic scenes 2016** dataset\n",
        "\n",
        "The [TUT Acoustic scenes 2016][1] dataset will be used for the task. The dataset consists of recordings from various acoustic scenes, all having distinct recording locations. \n",
        "\n",
        "A module has been created to download the TUT Acoustic scenes 2016 dataset to your machine (or uses a cached copy if you've already downloaded it because there is around 10GB of data). Original recordings were captured using a 44.1kHz sampling rate, stereo and 24-bit resolution. During the loading process, the audio data is resampled to 16kHz, mono and converted to normalized floating point values.\n",
        "\n",
        "Use the following code to use the module:\n",
        "\n",
        "[1]: http://www.cs.tut.fi/sgn/arg/dcase2016/task-acoustic-scene-classification"
      ]
    },
    {
      "cell_type": "code",
      "metadata": {
        "id": "KPONeXuN8i6z",
        "outputId": "c1d88d53-a61b-4d9c-b8c3-bb9318301b3a",
        "colab": {
          "base_uri": "https://localhost:8080/",
          "height": 918
        }
      },
      "source": [
        "import tutacousticscenes2016\n",
        "\n",
        "(x_dev, y_dev), (x_eval, y_eval) = tutacousticscenes2016.load_data()"
      ],
      "execution_count": null,
      "outputs": [
        {
          "output_type": "stream",
          "text": [
            "Using TensorFlow backend.\n"
          ],
          "name": "stderr"
        },
        {
          "output_type": "stream",
          "text": [
            "Downloading data from https://zenodo.org/record/45739/files/TUT-acoustic-scenes-2016-development.audio.1.zip\n",
            "1070989312/1070981236 [==============================] - 102s 0us/step\n",
            "Downloading data from https://zenodo.org/record/45739/files/TUT-acoustic-scenes-2016-development.audio.2.zip\n",
            "1067188224/1067186166 [==============================] - 101s 0us/step\n",
            "Downloading data from https://zenodo.org/record/45739/files/TUT-acoustic-scenes-2016-development.audio.3.zip\n",
            "1073651712/1073644405 [==============================] - 107s 0us/step\n",
            "Downloading data from https://zenodo.org/record/45739/files/TUT-acoustic-scenes-2016-development.audio.4.zip\n",
            "1072111616/1072111347 [==============================] - 99s 0us/step\n",
            "Downloading data from https://zenodo.org/record/45739/files/TUT-acoustic-scenes-2016-development.audio.5.zip\n",
            "1069686784/1069681513 [==============================] - 101s 0us/step\n",
            "Downloading data from https://zenodo.org/record/45739/files/TUT-acoustic-scenes-2016-development.audio.6.zip\n",
            "1072898048/1072890150 [==============================] - 101s 0us/step\n",
            "Downloading data from https://zenodo.org/record/45739/files/TUT-acoustic-scenes-2016-development.audio.7.zip\n",
            "1069268992/1069265197 [==============================] - 100s 0us/step\n",
            "Downloading data from https://zenodo.org/record/45739/files/TUT-acoustic-scenes-2016-development.audio.8.zip\n",
            "528465920/528461098 [==============================] - 51s 0us/step\n",
            "Downloading data from https://zenodo.org/record/45739/files/TUT-acoustic-scenes-2016-development.doc.zip\n",
            "73728/69671 [===============================] - 1s 7us/step\n",
            "Downloading data from https://zenodo.org/record/45739/files/TUT-acoustic-scenes-2016-development.error.zip\n",
            "8192/1283 [===============================================================================================================================================================================================] - 0s 0us/step\n",
            "Downloading data from https://zenodo.org/record/45739/files/TUT-acoustic-scenes-2016-development.meta.zip\n",
            "32768/28815 [==================================] - 0s 8us/step\n",
            "Downloading data from https://zenodo.org/record/165995/files/TUT-acoustic-scenes-2016-evaluation.audio.1.zip\n",
            "1067687936/1067685684 [==============================] - 101s 0us/step\n",
            "Downloading data from https://zenodo.org/record/165995/files/TUT-acoustic-scenes-2016-evaluation.audio.2.zip\n",
            "1068310528/1068308900 [==============================] - 101s 0us/step\n",
            "Downloading data from https://zenodo.org/record/165995/files/TUT-acoustic-scenes-2016-evaluation.audio.3.zip\n",
            "538902528/538894804 [==============================] - 53s 0us/step\n",
            "Downloading data from https://zenodo.org/record/165995/files/TUT-acoustic-scenes-2016-evaluation.doc.zip\n",
            "73728/69217 [===============================] - 1s 7us/step\n",
            "Downloading data from https://zenodo.org/record/165995/files/TUT-acoustic-scenes-2016-evaluation.meta.zip\n",
            "8192/5962 [=========================================] - 0s 0us/step\n",
            "Extracting ./datasets/TUT-acoustic-scenes-2016/TUT-acoustic-scenes-2016-development.audio.1.zip\n",
            "Extracting ./datasets/TUT-acoustic-scenes-2016/TUT-acoustic-scenes-2016-development.audio.2.zip\n",
            "Extracting ./datasets/TUT-acoustic-scenes-2016/TUT-acoustic-scenes-2016-development.audio.3.zip\n",
            "Extracting ./datasets/TUT-acoustic-scenes-2016/TUT-acoustic-scenes-2016-development.audio.4.zip\n",
            "Extracting ./datasets/TUT-acoustic-scenes-2016/TUT-acoustic-scenes-2016-development.audio.5.zip\n",
            "Extracting ./datasets/TUT-acoustic-scenes-2016/TUT-acoustic-scenes-2016-development.audio.6.zip\n",
            "Extracting ./datasets/TUT-acoustic-scenes-2016/TUT-acoustic-scenes-2016-development.audio.7.zip\n",
            "Extracting ./datasets/TUT-acoustic-scenes-2016/TUT-acoustic-scenes-2016-development.audio.8.zip\n",
            "Extracting ./datasets/TUT-acoustic-scenes-2016/TUT-acoustic-scenes-2016-development.doc.zip\n",
            "Extracting ./datasets/TUT-acoustic-scenes-2016/TUT-acoustic-scenes-2016-development.error.zip\n",
            "Extracting ./datasets/TUT-acoustic-scenes-2016/TUT-acoustic-scenes-2016-development.meta.zip\n",
            "Extracting ./datasets/TUT-acoustic-scenes-2016/TUT-acoustic-scenes-2016-evaluation.audio.1.zip\n",
            "Extracting ./datasets/TUT-acoustic-scenes-2016/TUT-acoustic-scenes-2016-evaluation.audio.2.zip\n",
            "Extracting ./datasets/TUT-acoustic-scenes-2016/TUT-acoustic-scenes-2016-evaluation.audio.3.zip\n",
            "Extracting ./datasets/TUT-acoustic-scenes-2016/TUT-acoustic-scenes-2016-evaluation.doc.zip\n",
            "Extracting ./datasets/TUT-acoustic-scenes-2016/TUT-acoustic-scenes-2016-evaluation.meta.zip\n"
          ],
          "name": "stdout"
        },
        {
          "output_type": "stream",
          "text": [
            "\r  0%|          | 0/1170 [00:00<?, ?it/s]"
          ],
          "name": "stderr"
        },
        {
          "output_type": "stream",
          "text": [
            "Loading wav files to ./datasets/TUT-acoustic-scenes-2016/TUT-acoustic-scenes-2016-development\n"
          ],
          "name": "stdout"
        },
        {
          "output_type": "stream",
          "text": [
            "100%|██████████| 1170/1170 [31:31<00:00,  1.74s/it]\n",
            "  0%|          | 0/390 [00:00<?, ?it/s]"
          ],
          "name": "stderr"
        },
        {
          "output_type": "stream",
          "text": [
            "Loading wav files to ./datasets/TUT-acoustic-scenes-2016/TUT-acoustic-scenes-2016-evaluation\n"
          ],
          "name": "stdout"
        },
        {
          "output_type": "stream",
          "text": [
            "100%|██████████| 390/390 [11:05<00:00,  1.71s/it]\n"
          ],
          "name": "stderr"
        }
      ]
    },
    {
      "cell_type": "markdown",
      "metadata": {
        "id": "eXLTLLoTFmLf"
      },
      "source": [
        "Labels (i.e. `y_train` and `y_test`) are returned as arrays of index from 0 to 2. You can use a list of strings with the corresponding class names to make the matching. "
      ]
    },
    {
      "cell_type": "code",
      "metadata": {
        "id": "5S1TosAsFkuH"
      },
      "source": [
        "class_names = ['indoor', 'outdoor', 'vehicle']"
      ],
      "execution_count": null,
      "outputs": []
    },
    {
      "cell_type": "markdown",
      "metadata": {
        "id": "aVVWOOpQFASb"
      },
      "source": [
        "## Explore the data\n",
        "Let's make sure the data we have downloaded actually makes sense. The dataset has been converted to mono and resampled to 16kHz."
      ]
    },
    {
      "cell_type": "code",
      "metadata": {
        "id": "hfPpK045FbuN",
        "outputId": "7561739f-5342-423f-e1fc-dc14aed7855e",
        "colab": {
          "base_uri": "https://localhost:8080/",
          "height": 68
        }
      },
      "source": [
        "print('x_dev shape:', x_dev.shape)\n",
        "print(x_dev.shape[0], 'development samples')\n",
        "print(x_eval.shape[0], 'evaluation samples')"
      ],
      "execution_count": null,
      "outputs": [
        {
          "output_type": "stream",
          "text": [
            "x_dev shape: (1170, 480001)\n",
            "1170 development samples\n",
            "390 evaluation samples\n"
          ],
          "name": "stdout"
        }
      ]
    },
    {
      "cell_type": "markdown",
      "metadata": {
        "id": "dp93SdyzNkyX"
      },
      "source": [
        "The development dataset is composed of:\n",
        "- 6 x 78 = 468 30s segments for *indoor*\n",
        "- 5 x 78 = 390 30s segments for *outdoor*\n",
        "- 4 x 78 = 312 30s segments for *outdoor* "
      ]
    },
    {
      "cell_type": "code",
      "metadata": {
        "id": "WHpFP7GTOMPP",
        "outputId": "9bfdf0ff-7837-4ce8-a47c-78f921de4d20",
        "colab": {
          "base_uri": "https://localhost:8080/",
          "height": 344
        }
      },
      "source": [
        "%matplotlib inline\n",
        "import matplotlib.pyplot as plt\n",
        "\n",
        "plt.figure()\n",
        "plt.xticks(range(len(class_names)), class_names, rotation=45)\n",
        "plt.hist(y_dev, bins=len(class_names))"
      ],
      "execution_count": null,
      "outputs": [
        {
          "output_type": "execute_result",
          "data": {
            "text/plain": [
              "(array([468., 390., 312.]),\n",
              " array([0.        , 0.66666667, 1.33333333, 2.        ]),\n",
              " <a list of 3 Patch objects>)"
            ]
          },
          "metadata": {
            "tags": []
          },
          "execution_count": 8
        },
        {
          "output_type": "display_data",
          "data": {
            "image/png": "[encoded data removed]",
            "text/plain": [
              "<Figure size 432x288 with 1 Axes>"
            ]
          },
          "metadata": {
            "tags": []
          }
        }
      ]
    },
    {
      "cell_type": "markdown",
      "metadata": {
        "id": "RgNgbtLePO45"
      },
      "source": [
        "Similarly, the evaluation dataset is composed of:\n",
        "- 6 x 26 = 156 30s segments for *indoor*\n",
        "- 5 x 26 = 120 30s segments for *outdoor*\n",
        "- 4 x 26 = 104 30s segments for *outdoor* "
      ]
    },
    {
      "cell_type": "code",
      "metadata": {
        "id": "mItpwKazOY6g",
        "outputId": "113d4bf6-508b-4321-f747-6e387bcc2a52",
        "colab": {
          "base_uri": "https://localhost:8080/",
          "height": 344
        }
      },
      "source": [
        "plt.figure()\n",
        "plt.xticks(range(len(class_names)), class_names, rotation=45)\n",
        "plt.hist(y_eval, bins=len(class_names))"
      ],
      "execution_count": null,
      "outputs": [
        {
          "output_type": "execute_result",
          "data": {
            "text/plain": [
              "(array([156., 130., 104.]),\n",
              " array([0.        , 0.66666667, 1.33333333, 2.        ]),\n",
              " <a list of 3 Patch objects>)"
            ]
          },
          "metadata": {
            "tags": []
          },
          "execution_count": 9
        },
        {
          "output_type": "display_data",
          "data": {
            "image/png": "[encoded data removed]",
            "text/plain": [
              "<Figure size 432x288 with 1 Axes>"
            ]
          },
          "metadata": {
            "tags": []
          }
        }
      ]
    },
    {
      "cell_type": "markdown",
      "metadata": {
        "id": "4aHXsVQ0Gw7F"
      },
      "source": [
        "Let's plot the first few audio samples from the first audio file:"
      ]
    },
    {
      "cell_type": "code",
      "metadata": {
        "id": "5CG-03kRG_MF",
        "outputId": "1e5e3900-bf48-493e-b905-4934e7c9a077",
        "colab": {
          "base_uri": "https://localhost:8080/",
          "height": 868
        }
      },
      "source": [
        "import librosa.display\n",
        "\n",
        "plt.figure()\n",
        "plt.title(class_names[y_dev[0]])\n",
        "librosa.display.waveplot(x_dev[0][:1024], sr=16000)\n",
        "\n",
        "\n",
        "plt.figure()\n",
        "plt.title(class_names[y_dev[120]])\n",
        "librosa.display.waveplot(x_dev[120][:1024], sr=16000)\n",
        "\n",
        "plt.figure()\n",
        "plt.title(class_names[y_dev[167]])\n",
        "librosa.display.waveplot(x_dev[167][:1024], sr=16000)"
      ],
      "execution_count": null,
      "outputs": [
        {
          "output_type": "execute_result",
          "data": {
            "text/plain": [
              "<matplotlib.collections.PolyCollection at 0x7f6c13fa5f28>"
            ]
          },
          "metadata": {
            "tags": []
          },
          "execution_count": 10
        },
        {
          "output_type": "display_data",
          "data": {
            "image/png": "[encoded data removed]",
            "text/plain": [
              "<Figure size 432x288 with 1 Axes>"
            ]
          },
          "metadata": {
            "tags": []
          }
        },
        {
          "output_type": "display_data",
          "data": {
            "image/png": "[encoded data removed]",
            "text/plain": [
              "<Figure size 432x288 with 1 Axes>"
            ]
          },
          "metadata": {
            "tags": []
          }
        },
        {
          "output_type": "display_data",
          "data": {
            "image/png": "[encoded data removed]",
            "text/plain": [
              "<Figure size 432x288 with 1 Axes>"
            ]
          },
          "metadata": {
            "tags": []
          }
        }
      ]
    },
    {
      "cell_type": "markdown",
      "metadata": {
        "id": "KYUzi13jHEGG"
      },
      "source": [
        "## Prepare the data\n",
        "Slice the 30s signal into overlapping frames of 1024ms to return 936 frames of 1024 samples:"
      ]
    },
    {
      "cell_type": "code",
      "metadata": {
        "id": "xpDd7UD_HILc"
      },
      "source": [
        "import numpy as np\n",
        "import librosa.util\n",
        "\n",
        "x_dev_framed = []\n",
        "for i in range(x_dev.shape[0]):\n",
        "    frames = librosa.util.frame(x_dev[i], frame_length=1024, hop_length=512)\n",
        "    x_dev_framed.append(np.transpose(frames))"
      ],
      "execution_count": null,
      "outputs": []
    },
    {
      "cell_type": "markdown",
      "metadata": {
        "id": "32X05lduljUL"
      },
      "source": [
        "And check that we are getting a list of 1,170 samples with 936 frames of 1024 samples:"
      ]
    },
    {
      "cell_type": "code",
      "metadata": {
        "id": "NiwJoeHpHL_p",
        "outputId": "bab80f35-eb55-40d5-92a4-6541c56a9566",
        "colab": {
          "base_uri": "https://localhost:8080/",
          "height": 51
        }
      },
      "source": [
        "print(len(x_dev_framed))\n",
        "print(x_dev_framed[0].shape)"
      ],
      "execution_count": null,
      "outputs": [
        {
          "output_type": "stream",
          "text": [
            "1170\n",
            "(936, 1024)\n"
          ],
          "name": "stdout"
        }
      ]
    },
    {
      "cell_type": "markdown",
      "metadata": {
        "id": "T19wguJ0eq6K"
      },
      "source": [
        "And plot the first frame to make sure we are getting the same data as previsously plotted:"
      ]
    },
    {
      "cell_type": "code",
      "metadata": {
        "id": "cczVM_vsbhzO",
        "outputId": "e263148f-37cc-4e19-ccef-8f5556df628b",
        "colab": {
          "base_uri": "https://localhost:8080/",
          "height": 312
        }
      },
      "source": [
        "plt.figure()\n",
        "plt.title(class_names[y_dev[0]])\n",
        "librosa.display.waveplot(np.ascontiguousarray(x_dev_framed[0][0]), sr=16000)"
      ],
      "execution_count": null,
      "outputs": [
        {
          "output_type": "execute_result",
          "data": {
            "text/plain": [
              "<matplotlib.collections.PolyCollection at 0x7f6c13dd0e80>"
            ]
          },
          "metadata": {
            "tags": []
          },
          "execution_count": 13
        },
        {
          "output_type": "display_data",
          "data": {
            "image/png": "[encoded data removed]",
            "text/plain": [
              "<Figure size 432x288 with 1 Axes>"
            ]
          },
          "metadata": {
            "tags": []
          }
        }
      ]
    },
    {
      "cell_type": "markdown",
      "metadata": {
        "id": "cP-ArVvZZeVk"
      },
      "source": [
        "And do the same for the *test* data:"
      ]
    },
    {
      "cell_type": "code",
      "metadata": {
        "id": "yS2xtR2qZc7p"
      },
      "source": [
        "x_eval_framed = []\n",
        "for i in range(x_eval.shape[0]):\n",
        "    frames = librosa.util.frame(x_eval[i], frame_length=1024, hop_length=512)\n",
        "    x_eval_framed.append(np.transpose(frames))"
      ],
      "execution_count": null,
      "outputs": []
    },
    {
      "cell_type": "markdown",
      "metadata": {
        "id": "lZj-0HbaHleW"
      },
      "source": [
        "## Preprocess the data\n",
        "In machine learning application, audio is typically preprocessed into some kind of spectrogram features. Features are represented on two-dimensional matrix, like a image.\n",
        "\n",
        "In this example we are going to be preprocessing the 1s audio frames into LogMel spectrogram features. Depending on the dataset size, this process can be very demanding and require a powerfull CPU.\n"
      ]
    },
    {
      "cell_type": "code",
      "metadata": {
        "id": "pJuJcbd2IDy8",
        "outputId": "985ab9a6-e7b4-47fe-cd10-26fcb01eaa7f",
        "colab": {
          "base_uri": "https://localhost:8080/",
          "height": 51
        }
      },
      "source": [
        "# Extract features from overlapping frames (drop end-of-file samples)\n",
        "# x_features[0] = first feature (30x32) matrix for first audio file\n",
        "# x_features[1] = second feature (30x32) matrix for first audio file\n",
        "# ...\n",
        "from LogMelSpectrogram import feature_extraction\n",
        "import numpy as np\n",
        "from tqdm import tqdm\n",
        "import os\n",
        "\n",
        "def preprocess_data(x_framed, y):\n",
        "    n_features_per_file = int(x_framed[0].shape[0] / 32) # 29 spectrograms per 30s audio file\n",
        "    n_files = len(x_framed)\n",
        "    # x_features.shape  == (n_files * 29, 30, 32)\n",
        "    x_features = np.empty((n_files * n_features_per_file, 30, 32), dtype='float32', order='C')\n",
        "    y_features = np.empty(n_files * n_features_per_file, dtype='int16')\n",
        "    for i in tqdm(range(0, n_files)):\n",
        "        for j in range(0, n_features_per_file):\n",
        "            frame = x_framed[i][0 + j:32 + j]\n",
        "            x_features[i * n_features_per_file + j] = feature_extraction(frame)\n",
        "            y_features[i * n_features_per_file + j] = y[i]\n",
        "\n",
        "    return (x_features, y_features)\n",
        "\n",
        "dev_features_filepath = 'dev_features.npz'\n",
        "eval_features_filepath = 'eval_features.npz'\n",
        "# Check if preprocessing can be loaded from cache\n",
        "if os.path.exists(dev_features_filepath):\n",
        "    with np.load(dev_features_filepath) as npzfile:\n",
        "            x_dev_features = npzfile['arr_0']\n",
        "            y_dev_features = npzfile['arr_1']\n",
        "            print(\"Loaded development features from cache\")\n",
        "else:\n",
        "    x_dev_features, y_dev_features = preprocess_data(x_dev_framed, y_dev)\n",
        "    # save features in npz format to resume task without going through the time\n",
        "    # consuming preprocessing operation\n",
        "    np.savez(dev_features_filepath, x_dev_features, y_dev_features)\n",
        "    \n",
        "# Check if preprocessing can be loaded from cache\n",
        "if os.path.exists(eval_features_filepath):\n",
        "    with np.load(eval_features_filepath) as npzfile:\n",
        "            x_eval_features = npzfile['arr_0']\n",
        "            y_eval_features = npzfile['arr_1']\n",
        "            print(\"Loaded evaluation features from cache\")\n",
        "else:\n",
        "    x_eval_features, y_eval_features = preprocess_data(x_eval_framed, y_eval)\n",
        "    # save features in npz format to resume task without going through the time\n",
        "    # consuming preprocessing operation\n",
        "    np.savez(eval_features_filepath, x_eval_features, y_eval_features)"
      ],
      "execution_count": null,
      "outputs": [
        {
          "output_type": "stream",
          "text": [
            "100%|██████████| 1170/1170 [15:35<00:00,  1.29it/s]\n",
            "100%|██████████| 390/390 [05:15<00:00,  1.29it/s]\n"
          ],
          "name": "stderr"
        }
      ]
    },
    {
      "cell_type": "markdown",
      "metadata": {
        "id": "yzZPeluqIrRD"
      },
      "source": [
        "We get 29 spectrograms features per audio files. Each consisting of a 30x32 matrix."
      ]
    },
    {
      "cell_type": "code",
      "metadata": {
        "id": "aYttkdEwITot",
        "outputId": "732ed871-de40-47ec-9906-7717241858e4",
        "colab": {
          "base_uri": "https://localhost:8080/",
          "height": 51
        }
      },
      "source": [
        "print(x_dev_features.shape)\n",
        "print(x_eval_features.shape)"
      ],
      "execution_count": null,
      "outputs": [
        {
          "output_type": "stream",
          "text": [
            "(33930, 30, 32)\n",
            "(11310, 30, 32)\n"
          ],
          "name": "stdout"
        }
      ]
    },
    {
      "cell_type": "markdown",
      "metadata": {
        "id": "cls4JIDhokVF"
      },
      "source": [
        "And each feature has a matching label, but keras requires categorical one-hot encoded target label data. So let's convert the labels to the desired encoding:"
      ]
    },
    {
      "cell_type": "code",
      "metadata": {
        "id": "_O7tkEjkoZOx",
        "outputId": "fe528007-4621-4cca-c5d8-d4483af0e37d",
        "colab": {
          "base_uri": "https://localhost:8080/",
          "height": 34
        }
      },
      "source": [
        "from keras.utils import to_categorical\n",
        "\n",
        "# Convert labels to categorical one-hot encoding\n",
        "y_dev_features_cat = to_categorical(y_dev_features, num_classes=len(class_names))\n",
        "y_eval_features_cat = to_categorical(y_eval_features, num_classes=len(class_names))\n",
        "\n",
        "y_dev_features_cat.shape"
      ],
      "execution_count": null,
      "outputs": [
        {
          "output_type": "execute_result",
          "data": {
            "text/plain": [
              "(33930, 3)"
            ]
          },
          "metadata": {
            "tags": []
          },
          "execution_count": 17
        }
      ]
    },
    {
      "cell_type": "markdown",
      "metadata": {
        "id": "Tv70InNmIcUO"
      },
      "source": [
        "Once again, let's plot the first feature/spectrogram to see what it looks like:"
      ]
    },
    {
      "cell_type": "code",
      "metadata": {
        "id": "Xgdmjhn6Ijl9",
        "outputId": "fe72767a-00d4-491d-e17b-3a4877683a0a",
        "colab": {
          "base_uri": "https://localhost:8080/",
          "height": 857
        }
      },
      "source": [
        "plt.figure(figsize=(10, 4))\n",
        "feature = x_dev_features[0]\n",
        "librosa.display.specshow(feature, sr=16000, y_axis='mel', fmax=8000,\n",
        "                         x_axis='time', cmap='viridis', vmin=-80.0)\n",
        "plt.colorbar(format='%+2.0f dB')\n",
        "plt.title('LogMel spectrogram for ' + class_names[y_dev_features[0]])\n",
        "plt.tight_layout()\n",
        "\n",
        "\n",
        "plt.figure(figsize=(10, 4))\n",
        "feature = x_dev_features[120 * 29]\n",
        "librosa.display.specshow(feature, sr=16000, y_axis='mel', fmax=8000,\n",
        "                         x_axis='time', cmap='viridis', vmin=-80.0)\n",
        "plt.colorbar(format='%+2.0f dB')\n",
        "plt.title('LogMel spectrogram for ' + class_names[y_dev_features[120 * 29]])\n",
        "plt.tight_layout()\n",
        "\n",
        "plt.figure(figsize=(10, 4))\n",
        "feature = x_dev_features[167 * 29]\n",
        "librosa.display.specshow(feature, sr=16000, y_axis='mel', fmax=8000,\n",
        "                         x_axis='time', cmap='viridis', vmin=-80.0)\n",
        "plt.colorbar(format='%+2.0f dB')\n",
        "plt.title('LogMel spectrogram for ' + class_names[y_dev_features[167 * 29]])\n",
        "plt.tight_layout()"
      ],
      "execution_count": null,
      "outputs": [
        {
          "output_type": "display_data",
          "data": {
            "image/png": "[encoded data removed]",
            "text/plain": [
              "<Figure size 720x288 with 2 Axes>"
            ]
          },
          "metadata": {
            "tags": []
          }
        },
        {
          "output_type": "display_data",
          "data": {
            "image/png": "[encoded data removed]",
            "text/plain": [
              "<Figure size 720x288 with 2 Axes>"
            ]
          },
          "metadata": {
            "tags": []
          }
        },
        {
          "output_type": "display_data",
          "data": {
            "image/png": "[encoded data removed]",
            "text/plain": [
              "<Figure size 720x288 with 2 Axes>"
            ]
          },
          "metadata": {
            "tags": []
          }
        }
      ]
    },
    {
      "cell_type": "markdown",
      "metadata": {
        "id": "_RleuzsPL85O"
      },
      "source": [
        "## Standardize features\n",
        "Standardize features by removing the mean and scaling to unit variance\n",
        "\n",
        "The standard score of a sample x is calculated as:\n",
        "\n",
        "z = (x - u) / s\n",
        "\n",
        "where u is the mean of the training samples, and s is the standard deviation of the training samples.\n",
        "\n",
        "Ref: https://scikit-learn.org/stable/modules/generated/sklearn.model_selection.train_test_split.html#sklearn.model_selection.train_test_split\n"
      ]
    },
    {
      "cell_type": "code",
      "metadata": {
        "id": "PNpI3UU5NEuG"
      },
      "source": [
        "from sklearn import preprocessing\n",
        "\n",
        "# Flatten features for scaling\n",
        "x_dev_features_r = x_dev_features.reshape(len(x_dev_features), 30 * 32)\n",
        "x_eval_features_r = x_eval_features.reshape(len(x_eval_features), 30 * 32)\n",
        "\n",
        "# Create scaler using only the development dataset\n",
        "scaler = preprocessing.StandardScaler().fit(x_dev_features_r)\n",
        "\n",
        "# Apply the same scaler to the development and evaluation set \n",
        "x_dev_features_s = scaler.transform(x_dev_features_r)\n",
        "x_eval_features_s = scaler.transform(x_eval_features_r)\n",
        "\n",
        "# Save scaler\n",
        "# TODO"
      ],
      "execution_count": null,
      "outputs": []
    },
    {
      "cell_type": "markdown",
      "metadata": {
        "id": "b5RqKHMp_hHG"
      },
      "source": [
        "## Split development set into *train* and *validation* set\n",
        "When training, we want to check the accuracy of the model on data it hasn't seen before. So we wan to split the development dataset into a training and validation set to evaluate the loss and other model metrics at the end of each training epoch. The goal is to develop and tune the model using only the development data. The evaluation dataset will only be used for final evaluation as if it was unknown."
      ]
    },
    {
      "cell_type": "code",
      "metadata": {
        "id": "25tPRvFKBQEl",
        "outputId": "728be49c-78c2-4c8a-9278-b44d4d714318",
        "colab": {
          "base_uri": "https://localhost:8080/",
          "height": 85
        }
      },
      "source": [
        "from sklearn.model_selection import train_test_split\n",
        "\n",
        "x_train, x_val, y_train, y_val = train_test_split(x_dev_features_s,\n",
        "                                                  y_dev_features_cat,\n",
        "                                                  test_size=0.25,\n",
        "                                                 random_state=1)\n",
        "\n",
        "\n",
        "x_test = x_eval_features_s.reshape(len(x_eval_features), 30 * 32)\n",
        "y_test = y_eval_features_cat\n",
        "_, x_test_partial, _, y_test_partial = train_test_split(x_test,\n",
        "                                                        y_test,\n",
        "                                                        test_size=0.01)\n",
        "\n",
        "print('Training samples:', x_train.shape)\n",
        "print('Validation samples:', x_val.shape)\n",
        "print('Test samples:', x_test.shape)\n",
        "print('Partial Test samples:', x_test_partial.shape)"
      ],
      "execution_count": null,
      "outputs": [
        {
          "output_type": "stream",
          "text": [
            "Training samples: (25447, 960)\n",
            "Validation samples: (8483, 960)\n",
            "Test samples: (11310, 960)\n",
            "Partial Test samples: (114, 960)\n"
          ],
          "name": "stdout"
        }
      ]
    },
    {
      "cell_type": "markdown",
      "metadata": {
        "id": "GbPr621k_L6L"
      },
      "source": [
        "## Save the features"
      ]
    },
    {
      "cell_type": "markdown",
      "metadata": {
        "id": "I-y9EAJ1JAYy"
      },
      "source": [
        "Finally, save the features to a csv file in a format [X-CUBE-AI](https://www.st.com/en/embedded-software/x-cube-ai.html) can understand, that is, for each tensor, the values are in a flattened vector."
      ]
    },
    {
      "cell_type": "code",
      "metadata": {
        "id": "LiFKbRnvJQ4h"
      },
      "source": [
        "np.savetxt('x_train.csv', x_train.reshape(len(x_train), 30 * 32), delimiter=\",\")\n",
        "np.savetxt('y_train.csv', y_train, delimiter=\",\")\n",
        "np.savetxt('x_val.csv', x_val.reshape(len(x_val), 30 * 32), delimiter=\",\")\n",
        "np.savetxt('y_val.csv', y_val, delimiter=\",\")\n",
        "np.savetxt('x_test.csv', x_test.reshape(len(x_test), 30 * 32), delimiter=\",\")\n",
        "np.savetxt('y_test.csv', y_test, delimiter=\",\")\n",
        "np.savetxt('x_test_partial.csv', x_test_partial.reshape(len(x_test_partial), 30 * 32), delimiter=\",\")\n",
        "np.savetxt('y_test_partial.csv', y_test_partial, delimiter=\",\")"
      ],
      "execution_count": null,
      "outputs": []
    },
    {
      "cell_type": "markdown",
      "metadata": {
        "id": "yU2J0oTOKNFo"
      },
      "source": [
        "## Build the model\n",
        "Now, let's build a sequential convolutional network classifier model: "
      ]
    },
    {
      "cell_type": "code",
      "metadata": {
        "id": "A_HY6MTfKSVX",
        "outputId": "3ca2e165-51b7-4fc3-a127-8b00402f18ee",
        "colab": {
          "base_uri": "https://localhost:8080/",
          "height": 445
        }
      },
      "source": [
        "from keras import layers\n",
        "from keras import models\n",
        "from tensorflow import set_random_seed\n",
        "\n",
        "model = models.Sequential()\n",
        "model.add(layers.Conv2D(16, (3, 3), activation='relu', input_shape=(30, 32, 1), data_format='channels_last'))\n",
        "model.add(layers.MaxPooling2D((2, 2)))\n",
        "model.add(layers.Conv2D(16, (3, 3), activation='relu'))\n",
        "model.add(layers.MaxPooling2D((2, 2)))\n",
        "model.add(layers.Flatten())\n",
        "model.add(layers.Dense(9, activation='relu'))\n",
        "model.add(layers.Dense(3, activation='softmax'))\n",
        "\n",
        "# print model summary\n",
        "model.summary()\n"
      ],
      "execution_count": null,
      "outputs": [
        {
          "output_type": "stream",
          "text": [
            "WARNING:tensorflow:From /usr/local/lib/python3.6/dist-packages/tensorflow/python/framework/op_def_library.py:263: colocate_with (from tensorflow.python.framework.ops) is deprecated and will be removed in a future version.\n",
            "Instructions for updating:\n",
            "Colocations handled automatically by placer.\n",
            "_________________________________________________________________\n",
            "Layer (type)                 Output Shape              Param #   \n",
            "=================================================================\n",
            "conv2d_1 (Conv2D)            (None, 28, 30, 16)        160       \n",
            "_________________________________________________________________\n",
            "max_pooling2d_1 (MaxPooling2 (None, 14, 15, 16)        0         \n",
            "_________________________________________________________________\n",
            "conv2d_2 (Conv2D)            (None, 12, 13, 16)        2320      \n",
            "_________________________________________________________________\n",
            "max_pooling2d_2 (MaxPooling2 (None, 6, 6, 16)          0         \n",
            "_________________________________________________________________\n",
            "flatten_1 (Flatten)          (None, 576)               0         \n",
            "_________________________________________________________________\n",
            "dense_1 (Dense)              (None, 9)                 5193      \n",
            "_________________________________________________________________\n",
            "dense_2 (Dense)              (None, 3)                 30        \n",
            "=================================================================\n",
            "Total params: 7,703\n",
            "Trainable params: 7,703\n",
            "Non-trainable params: 0\n",
            "_________________________________________________________________\n"
          ],
          "name": "stdout"
        }
      ]
    },
    {
      "cell_type": "markdown",
      "metadata": {
        "id": "EqCUEqyRKd-G"
      },
      "source": [
        "## Compile the model"
      ]
    },
    {
      "cell_type": "code",
      "metadata": {
        "id": "hAsL8qSdKfGf"
      },
      "source": [
        "from keras import optimizers\n",
        "\n",
        "sgd = optimizers.SGD(lr=0.001, decay=1e-6, momentum=0.9, nesterov=True)\n",
        "model.compile(optimizer=sgd, loss='categorical_crossentropy',  metrics=['acc'])"
      ],
      "execution_count": null,
      "outputs": []
    },
    {
      "cell_type": "markdown",
      "metadata": {
        "id": "_73yFNy3KpYC"
      },
      "source": [
        "## Train the model\n",
        "Now it's time to feed training data into our model. This is where a powerful CPU or even a GPU is recommended for this task."
      ]
    },
    {
      "cell_type": "code",
      "metadata": {
        "id": "JJN8PPzNoxDl"
      },
      "source": [
        "# Reshape features to include channel\n",
        "x_train_r = x_train.reshape(x_train.shape[0], 30, 32, 1)\n",
        "x_val_r = x_val.reshape(x_val.shape[0], 30, 32, 1)\n",
        "x_test_r = x_test.reshape(x_test.shape[0], 30, 32, 1)\n",
        "x_test_partial_r = x_test_partial.reshape(x_test_partial.shape[0], 30, 32, 1)"
      ],
      "execution_count": null,
      "outputs": []
    },
    {
      "cell_type": "code",
      "metadata": {
        "id": "MW8CyTBsKr-_",
        "outputId": "e336addd-a45d-4378-e981-77680d64a18c",
        "colab": {
          "base_uri": "https://localhost:8080/",
          "height": 785
        }
      },
      "source": [
        "# Train the model\n",
        "history = model.fit(x_train_r, y_train, validation_data=(x_val_r, y_val),\n",
        "                    batch_size=10, epochs=20, verbose=2)"
      ],
      "execution_count": null,
      "outputs": [
        {
          "output_type": "stream",
          "text": [
            "WARNING:tensorflow:From /usr/local/lib/python3.6/dist-packages/tensorflow/python/ops/math_ops.py:3066: to_int32 (from tensorflow.python.ops.math_ops) is deprecated and will be removed in a future version.\n",
            "Instructions for updating:\n",
            "Use tf.cast instead.\n",
            "Train on 25447 samples, validate on 8483 samples\n",
            "Epoch 1/20\n",
            " - 15s - loss: 0.4466 - acc: 0.8308 - val_loss: 0.2800 - val_acc: 0.8890\n",
            "Epoch 2/20\n",
            " - 9s - loss: 0.2357 - acc: 0.9106 - val_loss: 0.2145 - val_acc: 0.9176\n",
            "Epoch 3/20\n",
            " - 9s - loss: 0.1599 - acc: 0.9400 - val_loss: 0.1465 - val_acc: 0.9442\n",
            "Epoch 4/20\n",
            " - 9s - loss: 0.1180 - acc: 0.9553 - val_loss: 0.0996 - val_acc: 0.9613\n",
            "Epoch 5/20\n",
            " - 9s - loss: 0.0869 - acc: 0.9701 - val_loss: 0.0815 - val_acc: 0.9727\n",
            "Epoch 6/20\n",
            " - 9s - loss: 0.0690 - acc: 0.9754 - val_loss: 0.1095 - val_acc: 0.9578\n",
            "Epoch 7/20\n",
            " - 9s - loss: 0.0544 - acc: 0.9809 - val_loss: 0.0611 - val_acc: 0.9783\n",
            "Epoch 8/20\n",
            " - 10s - loss: 0.0458 - acc: 0.9845 - val_loss: 0.0612 - val_acc: 0.9780\n",
            "Epoch 9/20\n",
            " - 10s - loss: 0.0379 - acc: 0.9873 - val_loss: 0.1125 - val_acc: 0.9669\n",
            "Epoch 10/20\n",
            " - 9s - loss: 0.0337 - acc: 0.9883 - val_loss: 0.0501 - val_acc: 0.9801\n",
            "Epoch 11/20\n",
            " - 9s - loss: 0.0260 - acc: 0.9910 - val_loss: 0.0584 - val_acc: 0.9803\n",
            "Epoch 12/20\n",
            " - 9s - loss: 0.0196 - acc: 0.9935 - val_loss: 0.0265 - val_acc: 0.9912\n",
            "Epoch 13/20\n",
            " - 10s - loss: 0.0158 - acc: 0.9953 - val_loss: 0.0485 - val_acc: 0.9824\n",
            "Epoch 14/20\n",
            " - 9s - loss: 0.0142 - acc: 0.9961 - val_loss: 0.0273 - val_acc: 0.9899\n",
            "Epoch 15/20\n",
            " - 9s - loss: 0.0144 - acc: 0.9958 - val_loss: 0.0203 - val_acc: 0.9922\n",
            "Epoch 16/20\n",
            " - 10s - loss: 0.0090 - acc: 0.9974 - val_loss: 0.0229 - val_acc: 0.9915\n",
            "Epoch 17/20\n",
            " - 10s - loss: 0.0040 - acc: 0.9996 - val_loss: 0.0149 - val_acc: 0.9947\n",
            "Epoch 18/20\n",
            " - 9s - loss: 0.0048 - acc: 0.9990 - val_loss: 0.0129 - val_acc: 0.9958\n",
            "Epoch 19/20\n",
            " - 9s - loss: 0.0056 - acc: 0.9989 - val_loss: 0.0255 - val_acc: 0.9929\n",
            "Epoch 20/20\n",
            " - 9s - loss: 0.0039 - acc: 0.9994 - val_loss: 0.0207 - val_acc: 0.9927\n"
          ],
          "name": "stdout"
        }
      ]
    },
    {
      "cell_type": "code",
      "metadata": {
        "id": "UfRxRqGJJvur",
        "outputId": "8d5ca14d-78c4-4e20-fe40-226155efb186",
        "colab": {
          "base_uri": "https://localhost:8080/",
          "height": 283
        }
      },
      "source": [
        "loss = history.history['loss']\n",
        "val_loss = history.history['val_loss']\n",
        "\n",
        "plt.figure()\n",
        "plt.clf()\n",
        "plt.xlabel('Epochs')\n",
        "plt.ylabel('Loss')\n",
        "plt.plot(loss, color='r')\n",
        "plt.plot(val_loss, color='g')\n",
        "plt.show()"
      ],
      "execution_count": null,
      "outputs": [
        {
          "output_type": "display_data",
          "data": {
            "image/png": "[encoded data removed]",
            "text/plain": [
              "<Figure size 432x288 with 1 Axes>"
            ]
          },
          "metadata": {
            "tags": []
          }
        }
      ]
    },
    {
      "cell_type": "markdown",
      "metadata": {
        "id": "eq-CaqTEH9pa"
      },
      "source": [
        "## Evaluate accuracy\n",
        "Next, compare how the model performs on the test dataset:"
      ]
    },
    {
      "cell_type": "code",
      "metadata": {
        "id": "Ozp3mhVcH9WO",
        "outputId": "6df16d5d-bae6-4e1e-9f21-268ac35309f1",
        "colab": {
          "base_uri": "https://localhost:8080/",
          "height": 68
        }
      },
      "source": [
        "loss_and_metrics = model.evaluate(x_test_r, y_test)\n",
        "\n",
        "print('Test loss:', loss_and_metrics[0])\n",
        "print('Test accuracy:', loss_and_metrics[1])"
      ],
      "execution_count": null,
      "outputs": [
        {
          "output_type": "stream",
          "text": [
            "11310/11310 [==============================] - 1s 49us/step\n",
            "Test loss: 0.7539132880330334\n",
            "Test accuracy: 0.9015030946065429\n"
          ],
          "name": "stdout"
        }
      ]
    },
    {
      "cell_type": "markdown",
      "metadata": {
        "id": "FKbVxS7AIRB-"
      },
      "source": [
        "Overfitting is when a machine learning model performs worse on new data than on their training data."
      ]
    },
    {
      "cell_type": "markdown",
      "metadata": {
        "id": "8PxovB6bYLJY"
      },
      "source": [
        "## Confusion Matrix"
      ]
    },
    {
      "cell_type": "markdown",
      "metadata": {
        "id": "Pq3kplNgoTKY"
      },
      "source": [
        "### Full validation set confusion matrix"
      ]
    },
    {
      "cell_type": "code",
      "metadata": {
        "id": "_3svcAnJYANM",
        "outputId": "192b9283-6421-4a08-b6f5-d791faa34804",
        "colab": {
          "base_uri": "https://localhost:8080/",
          "height": 85
        }
      },
      "source": [
        "from sklearn.metrics import confusion_matrix\n",
        "from sklearn.metrics import accuracy_score\n",
        "\n",
        "y_pred = model.predict(x_val_r)\n",
        "\n",
        "y_pred_class_nb = np.argmax(y_pred, axis=1)\n",
        "y_true_class_nb = np.argmax(y_val, axis=1)\n",
        "\n",
        "matrix = confusion_matrix(y_true_class_nb, y_pred_class_nb, labels=[0,1,2])\n",
        "accuracy = accuracy_score(y_true_class_nb, y_pred_class_nb)\n",
        "\n",
        "# (optional) normalize to get values in %\n",
        "matrix = matrix.astype('float') / matrix.sum(axis=1)[:, np.newaxis]\n",
        "\n",
        "np.set_printoptions(precision=2)\n",
        "print(matrix)\n",
        "print(\"Accuracy = \" + str(accuracy))"
      ],
      "execution_count": null,
      "outputs": [
        {
          "output_type": "stream",
          "text": [
            "[[9.94e-01 5.29e-03 5.87e-04]\n",
            " [2.79e-03 9.97e-01 3.49e-04]\n",
            " [5.88e-03 9.04e-03 9.85e-01]]\n",
            "Accuracy = 0.9926912648827065\n"
          ],
          "name": "stdout"
        }
      ]
    },
    {
      "cell_type": "markdown",
      "metadata": {
        "id": "EoxF7ewGoYHU"
      },
      "source": [
        "### Partial test set confusion matrix"
      ]
    },
    {
      "cell_type": "code",
      "metadata": {
        "id": "1oJZLjbMobVN",
        "outputId": "59e65fe5-700c-4600-86bf-2aa25eb600fb",
        "colab": {
          "base_uri": "https://localhost:8080/",
          "height": 85
        }
      },
      "source": [
        "from sklearn.metrics import confusion_matrix\n",
        "from sklearn.metrics import accuracy_score\n",
        "\n",
        "y_pred = model.predict(x_test_partial_r)\n",
        "\n",
        "y_pred_class_nb = np.argmax(y_pred, axis=1)\n",
        "y_true_class_nb = np.argmax(y_test_partial, axis=1)\n",
        "\n",
        "matrix = confusion_matrix(y_true_class_nb, y_pred_class_nb, labels=[0,1,2])\n",
        "accuracy = accuracy_score(y_true_class_nb, y_pred_class_nb)\n",
        "\n",
        "# (optional) normalize to get values in %\n",
        "matrix = matrix.astype('float') / matrix.sum(axis=1)[:, np.newaxis]\n",
        "\n",
        "np.set_printoptions(precision=2)\n",
        "print(matrix)\n",
        "print(\"Accuracy = \" + str(accuracy))"
      ],
      "execution_count": null,
      "outputs": [
        {
          "output_type": "stream",
          "text": [
            "[[1.   0.   0.  ]\n",
            " [0.1  0.88 0.02]\n",
            " [0.05 0.08 0.86]]\n",
            "Accuracy = 0.9122807017543859\n"
          ],
          "name": "stdout"
        }
      ]
    },
    {
      "cell_type": "markdown",
      "metadata": {
        "id": "nF1SySoBzV7N"
      },
      "source": [
        "We can then use this same x_test_partial dataset to perform a *validation on target* and confirm that we are geeting similar values when running our model on STM32."
      ]
    },
    {
      "cell_type": "markdown",
      "metadata": {
        "id": "UMFGQhre1NK_"
      },
      "source": [
        "## Save the model\n",
        "When saving the model in a `.h5` file format, the [X-CUBE-AI](https://www.st.com/en/embedded-software/x-cube-ai.html) tool can import the pre-training model and generate an equivalent C model optmized for STM32 devices. "
      ]
    },
    {
      "cell_type": "code",
      "metadata": {
        "id": "e56v4RG31q2s"
      },
      "source": [
        "# Save the model into an HDF5 file ‘model.h5’\n",
        "model.save('model.h5')"
      ],
      "execution_count": null,
      "outputs": []
    },
    {
      "cell_type": "markdown",
      "metadata": {
        "id": "2gvPK_BWj9Lp"
      },
      "source": [
        "## References\n",
        "- https://www.tensorflow.org/tutorials/keras/basic_classification\n",
        "- https://www.tensorflow.org/tutorials/keras/basic_text_classification\n",
        "- https://www.tensorflow.org/tutorials/sequences/audio_recognition\n"
      ]
    }
  ]
}